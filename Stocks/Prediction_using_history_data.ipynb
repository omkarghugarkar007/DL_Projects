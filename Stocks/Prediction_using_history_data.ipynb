{
 "cells": [
  {
   "cell_type": "code",
   "execution_count": 87,
   "metadata": {
    "colab": {
     "base_uri": "https://localhost:8080/",
     "height": 1000
    },
    "id": "VyDtI2aVd9yj",
    "outputId": "037053a1-4b96-4922-cd3e-607432ea92c4"
   },
   "outputs": [
    {
     "name": "stdout",
     "output_type": "stream",
     "text": [
      "4322.970215\n"
     ]
    },
    {
     "name": "stderr",
     "output_type": "stream",
     "text": [
      "/usr/local/lib/python3.6/dist-packages/ipykernel_launcher.py:20: SettingWithCopyWarning: \n",
      "A value is trying to be set on a copy of a slice from a DataFrame\n",
      "\n",
      "See the caveats in the documentation: https://pandas.pydata.org/pandas-docs/stable/user_guide/indexing.html#returning-a-view-versus-a-copy\n"
     ]
    },
    {
     "data": {
      "text/html": [
       "<div>\n",
       "<style scoped>\n",
       "    .dataframe tbody tr th:only-of-type {\n",
       "        vertical-align: middle;\n",
       "    }\n",
       "\n",
       "    .dataframe tbody tr th {\n",
       "        vertical-align: top;\n",
       "    }\n",
       "\n",
       "    .dataframe thead th {\n",
       "        text-align: right;\n",
       "    }\n",
       "</style>\n",
       "<table border=\"1\" class=\"dataframe\">\n",
       "  <thead>\n",
       "    <tr style=\"text-align: right;\">\n",
       "      <th></th>\n",
       "      <th>Date</th>\n",
       "      <th>Open</th>\n",
       "      <th>High</th>\n",
       "      <th>Low</th>\n",
       "      <th>Adj Close</th>\n",
       "    </tr>\n",
       "  </thead>\n",
       "  <tbody>\n",
       "    <tr>\n",
       "      <th>0</th>\n",
       "      <td>7/1/1997</td>\n",
       "      <td>4263.109863</td>\n",
       "      <td>4301.770020</td>\n",
       "      <td>4247.660156</td>\n",
       "      <td>4300.859863</td>\n",
       "    </tr>\n",
       "    <tr>\n",
       "      <th>1</th>\n",
       "      <td>7/2/1997</td>\n",
       "      <td>4302.959961</td>\n",
       "      <td>4395.310059</td>\n",
       "      <td>4295.399902</td>\n",
       "      <td>4333.899902</td>\n",
       "    </tr>\n",
       "    <tr>\n",
       "      <th>2</th>\n",
       "      <td>7/3/1997</td>\n",
       "      <td>4335.790039</td>\n",
       "      <td>4393.290039</td>\n",
       "      <td>4299.970215</td>\n",
       "      <td>4323.459961</td>\n",
       "    </tr>\n",
       "    <tr>\n",
       "      <th>3</th>\n",
       "      <td>7/4/1997</td>\n",
       "      <td>4332.700195</td>\n",
       "      <td>4347.589844</td>\n",
       "      <td>4300.580078</td>\n",
       "      <td>4323.819824</td>\n",
       "    </tr>\n",
       "    <tr>\n",
       "      <th>4</th>\n",
       "      <td>7/7/1997</td>\n",
       "      <td>4326.810059</td>\n",
       "      <td>4391.009766</td>\n",
       "      <td>4289.490234</td>\n",
       "      <td>4291.450195</td>\n",
       "    </tr>\n",
       "    <tr>\n",
       "      <th>5</th>\n",
       "      <td>7/8/1997</td>\n",
       "      <td>4285.649902</td>\n",
       "      <td>4313.000000</td>\n",
       "      <td>4252.490234</td>\n",
       "      <td>4306.390137</td>\n",
       "    </tr>\n",
       "    <tr>\n",
       "      <th>6</th>\n",
       "      <td>7/9/1997</td>\n",
       "      <td>4315.419922</td>\n",
       "      <td>4404.830078</td>\n",
       "      <td>4315.419922</td>\n",
       "      <td>4404.689941</td>\n",
       "    </tr>\n",
       "    <tr>\n",
       "      <th>7</th>\n",
       "      <td>7/10/1997</td>\n",
       "      <td>4413.390137</td>\n",
       "      <td>4448.060059</td>\n",
       "      <td>4376.109863</td>\n",
       "      <td>4378.370117</td>\n",
       "    </tr>\n",
       "    <tr>\n",
       "      <th>8</th>\n",
       "      <td>7/11/1997</td>\n",
       "      <td>4372.750000</td>\n",
       "      <td>4372.750000</td>\n",
       "      <td>4301.930176</td>\n",
       "      <td>4321.979980</td>\n",
       "    </tr>\n",
       "    <tr>\n",
       "      <th>9</th>\n",
       "      <td>7/14/1997</td>\n",
       "      <td>4251.700195</td>\n",
       "      <td>4251.700195</td>\n",
       "      <td>4182.419922</td>\n",
       "      <td>4225.020020</td>\n",
       "    </tr>\n",
       "    <tr>\n",
       "      <th>10</th>\n",
       "      <td>7/15/1997</td>\n",
       "      <td>4229.890137</td>\n",
       "      <td>4261.029785</td>\n",
       "      <td>4204.720215</td>\n",
       "      <td>4221.020020</td>\n",
       "    </tr>\n",
       "    <tr>\n",
       "      <th>11</th>\n",
       "      <td>7/16/1997</td>\n",
       "      <td>4232.529785</td>\n",
       "      <td>4263.259766</td>\n",
       "      <td>4171.000000</td>\n",
       "      <td>4183.419922</td>\n",
       "    </tr>\n",
       "    <tr>\n",
       "      <th>12</th>\n",
       "      <td>7/17/1997</td>\n",
       "      <td>4183.910156</td>\n",
       "      <td>4202.310059</td>\n",
       "      <td>4152.259766</td>\n",
       "      <td>4193.609863</td>\n",
       "    </tr>\n",
       "    <tr>\n",
       "      <th>13</th>\n",
       "      <td>7/18/1997</td>\n",
       "      <td>4174.720215</td>\n",
       "      <td>4193.720215</td>\n",
       "      <td>4115.729980</td>\n",
       "      <td>4124.810059</td>\n",
       "    </tr>\n",
       "    <tr>\n",
       "      <th>14</th>\n",
       "      <td>7/21/1997</td>\n",
       "      <td>4134.080078</td>\n",
       "      <td>4155.500000</td>\n",
       "      <td>4105.279785</td>\n",
       "      <td>4154.279785</td>\n",
       "    </tr>\n",
       "    <tr>\n",
       "      <th>15</th>\n",
       "      <td>7/22/1997</td>\n",
       "      <td>4161.939941</td>\n",
       "      <td>4189.819824</td>\n",
       "      <td>4145.649902</td>\n",
       "      <td>4186.290039</td>\n",
       "    </tr>\n",
       "    <tr>\n",
       "      <th>16</th>\n",
       "      <td>7/23/1997</td>\n",
       "      <td>4204.830078</td>\n",
       "      <td>4258.600098</td>\n",
       "      <td>4182.319824</td>\n",
       "      <td>4251.129883</td>\n",
       "    </tr>\n",
       "    <tr>\n",
       "      <th>17</th>\n",
       "      <td>7/24/1997</td>\n",
       "      <td>4264.930176</td>\n",
       "      <td>4294.950195</td>\n",
       "      <td>4223.609863</td>\n",
       "      <td>4226.370117</td>\n",
       "    </tr>\n",
       "    <tr>\n",
       "      <th>18</th>\n",
       "      <td>7/25/1997</td>\n",
       "      <td>4218.290039</td>\n",
       "      <td>4222.729980</td>\n",
       "      <td>4159.000000</td>\n",
       "      <td>4189.810059</td>\n",
       "    </tr>\n",
       "    <tr>\n",
       "      <th>19</th>\n",
       "      <td>7/28/1997</td>\n",
       "      <td>4191.910156</td>\n",
       "      <td>4197.209961</td>\n",
       "      <td>4163.529785</td>\n",
       "      <td>4181.479980</td>\n",
       "    </tr>\n",
       "    <tr>\n",
       "      <th>20</th>\n",
       "      <td>7/29/1997</td>\n",
       "      <td>4180.589844</td>\n",
       "      <td>4218.979980</td>\n",
       "      <td>4171.109863</td>\n",
       "      <td>4217.580078</td>\n",
       "    </tr>\n",
       "    <tr>\n",
       "      <th>21</th>\n",
       "      <td>7/30/1997</td>\n",
       "      <td>4230.799805</td>\n",
       "      <td>4253.810059</td>\n",
       "      <td>4220.180176</td>\n",
       "      <td>4244.890137</td>\n",
       "    </tr>\n",
       "    <tr>\n",
       "      <th>22</th>\n",
       "      <td>7/31/1997</td>\n",
       "      <td>4252.370117</td>\n",
       "      <td>4331.580078</td>\n",
       "      <td>4245.520020</td>\n",
       "      <td>4305.759766</td>\n",
       "    </tr>\n",
       "    <tr>\n",
       "      <th>23</th>\n",
       "      <td>8/1/1997</td>\n",
       "      <td>4322.189941</td>\n",
       "      <td>4356.549805</td>\n",
       "      <td>4314.060059</td>\n",
       "      <td>4347.319824</td>\n",
       "    </tr>\n",
       "    <tr>\n",
       "      <th>24</th>\n",
       "      <td>8/4/1997</td>\n",
       "      <td>4392.470215</td>\n",
       "      <td>4478.189941</td>\n",
       "      <td>4392.470215</td>\n",
       "      <td>4465.370117</td>\n",
       "    </tr>\n",
       "    <tr>\n",
       "      <th>25</th>\n",
       "      <td>8/5/1997</td>\n",
       "      <td>4477.500000</td>\n",
       "      <td>4548.790039</td>\n",
       "      <td>4477.500000</td>\n",
       "      <td>4548.020020</td>\n",
       "    </tr>\n",
       "    <tr>\n",
       "      <th>26</th>\n",
       "      <td>8/6/1997</td>\n",
       "      <td>4568.390137</td>\n",
       "      <td>4605.410156</td>\n",
       "      <td>4505.060059</td>\n",
       "      <td>4523.009766</td>\n",
       "    </tr>\n",
       "    <tr>\n",
       "      <th>27</th>\n",
       "      <td>8/7/1997</td>\n",
       "      <td>4527.910156</td>\n",
       "      <td>4546.910156</td>\n",
       "      <td>4439.479980</td>\n",
       "      <td>4447.060059</td>\n",
       "    </tr>\n",
       "    <tr>\n",
       "      <th>28</th>\n",
       "      <td>8/8/1997</td>\n",
       "      <td>4460.229980</td>\n",
       "      <td>4467.180176</td>\n",
       "      <td>4373.200195</td>\n",
       "      <td>4397.540039</td>\n",
       "    </tr>\n",
       "    <tr>\n",
       "      <th>29</th>\n",
       "      <td>8/11/1997</td>\n",
       "      <td>4434.020020</td>\n",
       "      <td>4482.509766</td>\n",
       "      <td>4423.689941</td>\n",
       "      <td>4481.299805</td>\n",
       "    </tr>\n",
       "    <tr>\n",
       "      <th>30</th>\n",
       "      <td>8/12/1997</td>\n",
       "      <td>4496.799805</td>\n",
       "      <td>4504.029785</td>\n",
       "      <td>4393.240234</td>\n",
       "      <td>4425.029785</td>\n",
       "    </tr>\n",
       "    <tr>\n",
       "      <th>31</th>\n",
       "      <td>8/13/1997</td>\n",
       "      <td>4419.339844</td>\n",
       "      <td>4419.339844</td>\n",
       "      <td>4353.319824</td>\n",
       "      <td>4370.129883</td>\n",
       "    </tr>\n",
       "    <tr>\n",
       "      <th>32</th>\n",
       "      <td>8/14/1997</td>\n",
       "      <td>4372.290039</td>\n",
       "      <td>4381.529785</td>\n",
       "      <td>4290.129883</td>\n",
       "      <td>4320.970215</td>\n",
       "    </tr>\n",
       "    <tr>\n",
       "      <th>33</th>\n",
       "      <td>8/15/1997</td>\n",
       "      <td>0.000500</td>\n",
       "      <td>0.000500</td>\n",
       "      <td>0.000500</td>\n",
       "      <td>4321.970215</td>\n",
       "    </tr>\n",
       "    <tr>\n",
       "      <th>34</th>\n",
       "      <td>8/18/1997</td>\n",
       "      <td>0.000500</td>\n",
       "      <td>0.000500</td>\n",
       "      <td>0.000500</td>\n",
       "      <td>4322.970215</td>\n",
       "    </tr>\n",
       "    <tr>\n",
       "      <th>35</th>\n",
       "      <td>8/19/1997</td>\n",
       "      <td>4277.290039</td>\n",
       "      <td>4277.290039</td>\n",
       "      <td>4151.629883</td>\n",
       "      <td>4165.370117</td>\n",
       "    </tr>\n",
       "    <tr>\n",
       "      <th>36</th>\n",
       "      <td>8/20/1997</td>\n",
       "      <td>4166.790039</td>\n",
       "      <td>4238.089844</td>\n",
       "      <td>4144.470215</td>\n",
       "      <td>4234.629883</td>\n",
       "    </tr>\n",
       "  </tbody>\n",
       "</table>\n",
       "</div>"
      ],
      "text/plain": [
       "         Date         Open         High          Low    Adj Close\n",
       "0    7/1/1997  4263.109863  4301.770020  4247.660156  4300.859863\n",
       "1    7/2/1997  4302.959961  4395.310059  4295.399902  4333.899902\n",
       "2    7/3/1997  4335.790039  4393.290039  4299.970215  4323.459961\n",
       "3    7/4/1997  4332.700195  4347.589844  4300.580078  4323.819824\n",
       "4    7/7/1997  4326.810059  4391.009766  4289.490234  4291.450195\n",
       "5    7/8/1997  4285.649902  4313.000000  4252.490234  4306.390137\n",
       "6    7/9/1997  4315.419922  4404.830078  4315.419922  4404.689941\n",
       "7   7/10/1997  4413.390137  4448.060059  4376.109863  4378.370117\n",
       "8   7/11/1997  4372.750000  4372.750000  4301.930176  4321.979980\n",
       "9   7/14/1997  4251.700195  4251.700195  4182.419922  4225.020020\n",
       "10  7/15/1997  4229.890137  4261.029785  4204.720215  4221.020020\n",
       "11  7/16/1997  4232.529785  4263.259766  4171.000000  4183.419922\n",
       "12  7/17/1997  4183.910156  4202.310059  4152.259766  4193.609863\n",
       "13  7/18/1997  4174.720215  4193.720215  4115.729980  4124.810059\n",
       "14  7/21/1997  4134.080078  4155.500000  4105.279785  4154.279785\n",
       "15  7/22/1997  4161.939941  4189.819824  4145.649902  4186.290039\n",
       "16  7/23/1997  4204.830078  4258.600098  4182.319824  4251.129883\n",
       "17  7/24/1997  4264.930176  4294.950195  4223.609863  4226.370117\n",
       "18  7/25/1997  4218.290039  4222.729980  4159.000000  4189.810059\n",
       "19  7/28/1997  4191.910156  4197.209961  4163.529785  4181.479980\n",
       "20  7/29/1997  4180.589844  4218.979980  4171.109863  4217.580078\n",
       "21  7/30/1997  4230.799805  4253.810059  4220.180176  4244.890137\n",
       "22  7/31/1997  4252.370117  4331.580078  4245.520020  4305.759766\n",
       "23   8/1/1997  4322.189941  4356.549805  4314.060059  4347.319824\n",
       "24   8/4/1997  4392.470215  4478.189941  4392.470215  4465.370117\n",
       "25   8/5/1997  4477.500000  4548.790039  4477.500000  4548.020020\n",
       "26   8/6/1997  4568.390137  4605.410156  4505.060059  4523.009766\n",
       "27   8/7/1997  4527.910156  4546.910156  4439.479980  4447.060059\n",
       "28   8/8/1997  4460.229980  4467.180176  4373.200195  4397.540039\n",
       "29  8/11/1997  4434.020020  4482.509766  4423.689941  4481.299805\n",
       "30  8/12/1997  4496.799805  4504.029785  4393.240234  4425.029785\n",
       "31  8/13/1997  4419.339844  4419.339844  4353.319824  4370.129883\n",
       "32  8/14/1997  4372.290039  4381.529785  4290.129883  4320.970215\n",
       "33  8/15/1997     0.000500     0.000500     0.000500  4321.970215\n",
       "34  8/18/1997     0.000500     0.000500     0.000500  4322.970215\n",
       "35  8/19/1997  4277.290039  4277.290039  4151.629883  4165.370117\n",
       "36  8/20/1997  4166.790039  4238.089844  4144.470215  4234.629883"
      ]
     },
     "execution_count": 87,
     "metadata": {
      "tags": []
     },
     "output_type": "execute_result"
    }
   ],
   "source": [
    "import pandas as pd\n",
    "import numpy as np\n",
    "\n",
    "#to plot within notebook\n",
    "import matplotlib.pyplot as plt\n",
    "%matplotlib inline\n",
    "\n",
    "#setting figure size\n",
    "from matplotlib.pylab import rcParams\n",
    "rcParams['figure.figsize'] = 20,10\n",
    "\n",
    "#for normalizing data\n",
    "from sklearn.preprocessing import MinMaxScaler\n",
    "scaler = MinMaxScaler(feature_range=(0, 1))\n",
    "\n",
    "#read the file\n",
    "df = pd.read_csv('History_data.csv')\n",
    "for i in range(0,len(df)):\n",
    "  if df['Adj Close'][i]== 0.0005:\n",
    "    df['Adj Close'][i]=df['Adj Close'][i-1] +1\n",
    "#print the head\n",
    "print(df['Adj Close'][34])\n",
    "df.head(37)"
   ]
  },
  {
   "cell_type": "code",
   "execution_count": 88,
   "metadata": {
    "colab": {
     "base_uri": "https://localhost:8080/",
     "height": 500
    },
    "id": "_6S7LdCtd9yt",
    "outputId": "48bd91dc-3132-4f8f-f944-47fe8c5a6cca"
   },
   "outputs": [
    {
     "data": {
      "text/plain": [
       "[<matplotlib.lines.Line2D at 0x7f16e0416b00>]"
      ]
     },
     "execution_count": 88,
     "metadata": {
      "tags": []
     },
     "output_type": "execute_result"
    },
    {
     "data": {
      "image/png": "[encoded data removed]",
      "text/plain": [
       "<Figure size 1152x576 with 1 Axes>"
      ]
     },
     "metadata": {
      "needs_background": "light",
      "tags": []
     },
     "output_type": "display_data"
    }
   ],
   "source": [
    "#setting index as date\n",
    "df['Date'] = pd.to_datetime(df.Date,format='%m/%d/%Y')\n",
    "df.index = df['Date']\n",
    "\n",
    "#plot\n",
    "plt.figure(figsize=(16,8))\n",
    "plt.plot(df['Adj Close'], label='Close Price history')"
   ]
  },
  {
   "cell_type": "code",
   "execution_count": 101,
   "metadata": {
    "colab": {
     "base_uri": "https://localhost:8080/",
     "height": 969
    },
    "id": "HC76B7h0d9yy",
    "outputId": "b18d0194-a49a-4f55-9f61-b5ece1f8f70f"
   },
   "outputs": [
    {
     "name": "stdout",
     "output_type": "stream",
     "text": [
      "[[0.04321808 0.04405767 0.04379238 ... 0.03264468 0.03112889 0.02975337]\n",
      " [0.04405767 0.04379238 0.04380152 ... 0.03112889 0.02975337 0.03106028]\n",
      " [0.04379238 0.04380152 0.04297896 ... 0.02975337 0.03106028 0.03114896]\n",
      " ...\n",
      " [0.61759695 0.61613376 0.61443452 ... 0.57953637 0.56544578 0.56754221]\n",
      " [0.61613376 0.61443452 0.62029134 ... 0.56544578 0.56754221 0.56476498]\n",
      " [0.61443452 0.62029134 0.62548692 ... 0.56754221 0.56476498 0.56113091]]\n",
      "[[[0.04321808]\n",
      "  [0.04405767]\n",
      "  [0.04379238]\n",
      "  ...\n",
      "  [0.03264468]\n",
      "  [0.03112889]\n",
      "  [0.02975337]]\n",
      "\n",
      " [[0.04405767]\n",
      "  [0.04379238]\n",
      "  [0.04380152]\n",
      "  ...\n",
      "  [0.03112889]\n",
      "  [0.02975337]\n",
      "  [0.03106028]]\n",
      "\n",
      " [[0.04379238]\n",
      "  [0.04380152]\n",
      "  [0.04297896]\n",
      "  ...\n",
      "  [0.02975337]\n",
      "  [0.03106028]\n",
      "  [0.03114896]]\n",
      "\n",
      " ...\n",
      "\n",
      " [[0.61759695]\n",
      "  [0.61613376]\n",
      "  [0.61443452]\n",
      "  ...\n",
      "  [0.57953637]\n",
      "  [0.56544578]\n",
      "  [0.56754221]]\n",
      "\n",
      " [[0.61613376]\n",
      "  [0.61443452]\n",
      "  [0.62029134]\n",
      "  ...\n",
      "  [0.56544578]\n",
      "  [0.56754221]\n",
      "  [0.56476498]]\n",
      "\n",
      " [[0.61443452]\n",
      "  [0.62029134]\n",
      "  [0.62548692]\n",
      "  ...\n",
      "  [0.56754221]\n",
      "  [0.56476498]\n",
      "  [0.56113091]]]\n"
     ]
    }
   ],
   "source": [
    "from sklearn.preprocessing import MinMaxScaler\n",
    "from keras.models import Sequential\n",
    "from keras.layers import Dense, Dropout, LSTM\n",
    "\n",
    "#creating dataframe\n",
    "data = df.sort_index(ascending=True, axis=0)\n",
    "new_data = pd.DataFrame(index=range(0,len(df)),columns=['Date', 'Adj Close'])\n",
    "for i in range(0,len(data)):\n",
    "    new_data['Date'][i] = data['Date'][i]\n",
    "    new_data['Adj Close'][i] = data['Adj Close'][i]\n",
    "\n",
    "#setting index\n",
    "new_data.index = new_data.Date\n",
    "new_data.drop('Date', axis=1, inplace=True)\n",
    "\n",
    "#creating train and test sets\n",
    "dataset = new_data.values\n",
    "\n",
    "train = dataset[0:int(0.8*len(data)),:]\n",
    "valid = dataset[int(0.8*len(data)):,:]\n",
    "\n",
    "#converting dataset into x_train and y_train\n",
    "scaler = MinMaxScaler(feature_range=(0, 1))\n",
    "scaled_data = scaler.fit_transform(dataset)\n",
    "\n",
    "x_train, y_train = [], []\n",
    "for i in range(60,len(train)):\n",
    "    x_train.append(scaled_data[i-60:i,0])\n",
    "    y_train.append(scaled_data[i,0])\n",
    "x_train, y_train = np.array(x_train), np.array(y_train)\n",
    "x_train = np.reshape(x_train, (x_train.shape[0],x_train.shape[1],1))"
   ]
  },
  {
   "cell_type": "code",
   "execution_count": 91,
   "metadata": {
    "colab": {
     "base_uri": "https://localhost:8080/",
     "height": 51
    },
    "id": "hbv1vDYMp8RQ",
    "outputId": "fea4552f-e8f6-4824-c2db-6ea0883b7cbe"
   },
   "outputs": [
    {
     "name": "stdout",
     "output_type": "stream",
     "text": [
      "4628/4628 [==============================] - 61s 13ms/step - loss: 5.6261e-04\n"
     ]
    },
    {
     "data": {
      "text/plain": [
       "<tensorflow.python.keras.callbacks.History at 0x7f16e01a4e10>"
      ]
     },
     "execution_count": 91,
     "metadata": {
      "tags": []
     },
     "output_type": "execute_result"
    }
   ],
   "source": [
    "# create and fit the LSTM network\n",
    "model = Sequential()\n",
    "model.add(LSTM(50, return_sequences=True, input_shape= (x_train.shape[1], 1)))\n",
    "model.add(LSTM(50, return_sequences= False))\n",
    "model.add(Dense(25))\n",
    "model.add(Dense(1))\n",
    "\n",
    "model.compile(loss='mean_squared_error', optimizer='adam')\n",
    "model.fit(x_train, y_train, epochs=1, batch_size=1)"
   ]
  },
  {
   "cell_type": "code",
   "execution_count": 92,
   "metadata": {
    "id": "0ltrGWCYd9y3"
   },
   "outputs": [],
   "source": [
    "#predicting 246 values, using past 60 from the train data\n",
    "inputs = new_data[len(new_data) - len(valid) - 60:].values\n",
    "inputs = inputs.reshape(-1,1)\n",
    "inputs  = scaler.transform(inputs)\n",
    "\n",
    "X_test = []\n",
    "for i in range(60,inputs.shape[0]):\n",
    "    X_test.append(inputs[i-60:i,0])\n",
    "X_test = np.array(X_test)\n",
    "\n",
    "X_test = np.reshape(X_test, (X_test.shape[0],X_test.shape[1],1))\n",
    "closing_price = model.predict(X_test)\n",
    "closing_price = scaler.inverse_transform(closing_price)"
   ]
  },
  {
   "cell_type": "code",
   "execution_count": 93,
   "metadata": {
    "colab": {
     "base_uri": "https://localhost:8080/",
     "height": 34
    },
    "id": "iHiwbPRRfWh6",
    "outputId": "01a9122e-b9f1-43c0-f5e0-0f7090641e5b"
   },
   "outputs": [
    {
     "data": {
      "text/plain": [
       "571.8552028231686"
      ]
     },
     "execution_count": 93,
     "metadata": {
      "tags": []
     },
     "output_type": "execute_result"
    }
   ],
   "source": [
    "rms=np.sqrt(np.mean(np.power((valid-closing_price),2)))\n",
    "rms"
   ]
  },
  {
   "cell_type": "code",
   "execution_count": 95,
   "metadata": {
    "colab": {
     "base_uri": "https://localhost:8080/",
     "height": 657
    },
    "id": "yTmtA84VfZ8v",
    "outputId": "ad78762e-4c56-46e5-bcd4-ebdf7640168e"
   },
   "outputs": [
    {
     "name": "stderr",
     "output_type": "stream",
     "text": [
      "/usr/local/lib/python3.6/dist-packages/ipykernel_launcher.py:3: SettingWithCopyWarning: \n",
      "A value is trying to be set on a copy of a slice from a DataFrame.\n",
      "Try using .loc[row_indexer,col_indexer] = value instead\n",
      "\n",
      "See the caveats in the documentation: https://pandas.pydata.org/pandas-docs/stable/user_guide/indexing.html#returning-a-view-versus-a-copy\n",
      "  This is separate from the ipykernel package so we can avoid doing imports until\n"
     ]
    },
    {
     "data": {
      "text/plain": [
       "[<matplotlib.lines.Line2D at 0x7f16dec11748>]"
      ]
     },
     "execution_count": 95,
     "metadata": {
      "tags": []
     },
     "output_type": "execute_result"
    },
    {
     "data": {
      "image/png": "[encoded data removed]",
      "text/plain": [
       "<Figure size 1440x720 with 1 Axes>"
      ]
     },
     "metadata": {
      "needs_background": "light",
      "tags": []
     },
     "output_type": "display_data"
    }
   ],
   "source": [
    "train = new_data[:int(0.8*len(data))]\n",
    "valid = new_data[int(0.8*len(data)):]\n",
    "valid['Predictions'] = closing_price\n",
    "plt.plot(train['Adj Close'])\n",
    "plt.plot(valid[['Adj Close']])\n",
    "plt.plot(valid['Predictions'])\n"
   ]
  },
  {
   "cell_type": "code",
   "execution_count": 99,
   "metadata": {
    "colab": {
     "base_uri": "https://localhost:8080/",
     "height": 54
    },
    "id": "eL-PbnSYodgu",
    "outputId": "a404ef32-3cd2-40ac-b6c5-edf3ae43ec16"
   },
   "outputs": [
    {
     "name": "stdout",
     "output_type": "stream",
     "text": [
      "WARNING:tensorflow:Model was constructed with shape (None, 60, 1) for input Tensor(\"lstm_22_input:0\", shape=(None, 60, 1), dtype=float32), but it was called on an input with incompatible shape (None, 1, 1).\n"
     ]
    }
   ],
   "source": []
  },
  {
   "cell_type": "code",
   "execution_count": null,
   "metadata": {
    "id": "OlcyvW2rs-63"
   },
   "outputs": [],
   "source": []
  }
 ],
 "metadata": {
  "colab": {
   "name": "Prediction using history data.ipynb",
   "provenance": []
  },
  "kernelspec": {
   "display_name": "Python 3",
   "language": "python",
   "name": "python3"
  },
  "language_info": {
   "codemirror_mode": {
    "name": "ipython",
    "version": 3
   },
   "file_extension": ".py",
   "mimetype": "text/x-python",
   "name": "python",
   "nbconvert_exporter": "python",
   "pygments_lexer": "ipython3",
   "version": "3.8.6"
  }
 },
 "nbformat": 4,
 "nbformat_minor": 1
}
