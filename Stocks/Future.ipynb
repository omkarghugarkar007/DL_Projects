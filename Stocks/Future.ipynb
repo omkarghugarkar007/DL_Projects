{
 "cells": [
  {
   "cell_type": "code",
   "execution_count": 54,
   "metadata": {},
   "outputs": [],
   "source": [
    "import pandas as pd\n",
    "import numpy as np\n",
    "data = pd.read_csv('Stock_Data/RELIANCE.csv')"
   ]
  },
  {
   "cell_type": "code",
   "execution_count": 2,
   "metadata": {},
   "outputs": [
    {
     "data": {
      "text/html": [
       "<div>\n",
       "<style scoped>\n",
       "    .dataframe tbody tr th:only-of-type {\n",
       "        vertical-align: middle;\n",
       "    }\n",
       "\n",
       "    .dataframe tbody tr th {\n",
       "        vertical-align: top;\n",
       "    }\n",
       "\n",
       "    .dataframe thead th {\n",
       "        text-align: right;\n",
       "    }\n",
       "</style>\n",
       "<table border=\"1\" class=\"dataframe\">\n",
       "  <thead>\n",
       "    <tr style=\"text-align: right;\">\n",
       "      <th></th>\n",
       "      <th>Date</th>\n",
       "      <th>Symbol</th>\n",
       "      <th>Series</th>\n",
       "      <th>Prev Close</th>\n",
       "      <th>Open</th>\n",
       "      <th>High</th>\n",
       "      <th>Low</th>\n",
       "      <th>Last</th>\n",
       "      <th>Close</th>\n",
       "      <th>VWAP</th>\n",
       "      <th>Volume</th>\n",
       "      <th>Turnover</th>\n",
       "      <th>Trades</th>\n",
       "      <th>Deliverable Volume</th>\n",
       "      <th>%Deliverble</th>\n",
       "    </tr>\n",
       "  </thead>\n",
       "  <tbody>\n",
       "    <tr>\n",
       "      <th>0</th>\n",
       "      <td>2000-01-03</td>\n",
       "      <td>RELIANCE</td>\n",
       "      <td>EQ</td>\n",
       "      <td>233.05</td>\n",
       "      <td>237.50</td>\n",
       "      <td>251.70</td>\n",
       "      <td>237.50</td>\n",
       "      <td>251.70</td>\n",
       "      <td>251.70</td>\n",
       "      <td>249.37</td>\n",
       "      <td>4456424</td>\n",
       "      <td>1.111319e+14</td>\n",
       "      <td>NaN</td>\n",
       "      <td>NaN</td>\n",
       "      <td>NaN</td>\n",
       "    </tr>\n",
       "    <tr>\n",
       "      <th>1</th>\n",
       "      <td>2000-01-04</td>\n",
       "      <td>RELIANCE</td>\n",
       "      <td>EQ</td>\n",
       "      <td>251.70</td>\n",
       "      <td>258.40</td>\n",
       "      <td>271.85</td>\n",
       "      <td>251.30</td>\n",
       "      <td>271.85</td>\n",
       "      <td>271.85</td>\n",
       "      <td>263.52</td>\n",
       "      <td>9487878</td>\n",
       "      <td>2.500222e+14</td>\n",
       "      <td>NaN</td>\n",
       "      <td>NaN</td>\n",
       "      <td>NaN</td>\n",
       "    </tr>\n",
       "    <tr>\n",
       "      <th>2</th>\n",
       "      <td>2000-01-05</td>\n",
       "      <td>RELIANCE</td>\n",
       "      <td>EQ</td>\n",
       "      <td>271.85</td>\n",
       "      <td>256.65</td>\n",
       "      <td>287.90</td>\n",
       "      <td>256.65</td>\n",
       "      <td>286.75</td>\n",
       "      <td>282.50</td>\n",
       "      <td>274.79</td>\n",
       "      <td>26833684</td>\n",
       "      <td>7.373697e+14</td>\n",
       "      <td>NaN</td>\n",
       "      <td>NaN</td>\n",
       "      <td>NaN</td>\n",
       "    </tr>\n",
       "    <tr>\n",
       "      <th>3</th>\n",
       "      <td>2000-01-06</td>\n",
       "      <td>RELIANCE</td>\n",
       "      <td>EQ</td>\n",
       "      <td>282.50</td>\n",
       "      <td>289.00</td>\n",
       "      <td>300.70</td>\n",
       "      <td>289.00</td>\n",
       "      <td>293.50</td>\n",
       "      <td>294.35</td>\n",
       "      <td>295.45</td>\n",
       "      <td>15682286</td>\n",
       "      <td>4.633254e+14</td>\n",
       "      <td>NaN</td>\n",
       "      <td>NaN</td>\n",
       "      <td>NaN</td>\n",
       "    </tr>\n",
       "    <tr>\n",
       "      <th>4</th>\n",
       "      <td>2000-01-07</td>\n",
       "      <td>RELIANCE</td>\n",
       "      <td>EQ</td>\n",
       "      <td>294.35</td>\n",
       "      <td>295.00</td>\n",
       "      <td>317.90</td>\n",
       "      <td>293.00</td>\n",
       "      <td>314.50</td>\n",
       "      <td>314.55</td>\n",
       "      <td>308.91</td>\n",
       "      <td>19870977</td>\n",
       "      <td>6.138388e+14</td>\n",
       "      <td>NaN</td>\n",
       "      <td>NaN</td>\n",
       "      <td>NaN</td>\n",
       "    </tr>\n",
       "  </tbody>\n",
       "</table>\n",
       "</div>"
      ],
      "text/plain": [
       "         Date    Symbol Series  Prev Close    Open    High     Low    Last  \\\n",
       "0  2000-01-03  RELIANCE     EQ      233.05  237.50  251.70  237.50  251.70   \n",
       "1  2000-01-04  RELIANCE     EQ      251.70  258.40  271.85  251.30  271.85   \n",
       "2  2000-01-05  RELIANCE     EQ      271.85  256.65  287.90  256.65  286.75   \n",
       "3  2000-01-06  RELIANCE     EQ      282.50  289.00  300.70  289.00  293.50   \n",
       "4  2000-01-07  RELIANCE     EQ      294.35  295.00  317.90  293.00  314.50   \n",
       "\n",
       "    Close    VWAP    Volume      Turnover  Trades  Deliverable Volume  \\\n",
       "0  251.70  249.37   4456424  1.111319e+14     NaN                 NaN   \n",
       "1  271.85  263.52   9487878  2.500222e+14     NaN                 NaN   \n",
       "2  282.50  274.79  26833684  7.373697e+14     NaN                 NaN   \n",
       "3  294.35  295.45  15682286  4.633254e+14     NaN                 NaN   \n",
       "4  314.55  308.91  19870977  6.138388e+14     NaN                 NaN   \n",
       "\n",
       "   %Deliverble  \n",
       "0          NaN  \n",
       "1          NaN  \n",
       "2          NaN  \n",
       "3          NaN  \n",
       "4          NaN  "
      ]
     },
     "execution_count": 2,
     "metadata": {},
     "output_type": "execute_result"
    }
   ],
   "source": [
    "data.head()"
   ]
  },
  {
   "cell_type": "code",
   "execution_count": 18,
   "metadata": {},
   "outputs": [
    {
     "data": {
      "text/html": [
       "<div>\n",
       "<style scoped>\n",
       "    .dataframe tbody tr th:only-of-type {\n",
       "        vertical-align: middle;\n",
       "    }\n",
       "\n",
       "    .dataframe tbody tr th {\n",
       "        vertical-align: top;\n",
       "    }\n",
       "\n",
       "    .dataframe thead th {\n",
       "        text-align: right;\n",
       "    }\n",
       "</style>\n",
       "<table border=\"1\" class=\"dataframe\">\n",
       "  <thead>\n",
       "    <tr style=\"text-align: right;\">\n",
       "      <th></th>\n",
       "      <th>Date</th>\n",
       "      <th>Symbol</th>\n",
       "      <th>Series</th>\n",
       "      <th>Prev Close</th>\n",
       "      <th>Open</th>\n",
       "      <th>High</th>\n",
       "      <th>Low</th>\n",
       "      <th>Last</th>\n",
       "      <th>Close</th>\n",
       "      <th>VWAP</th>\n",
       "      <th>Volume</th>\n",
       "      <th>Turnover</th>\n",
       "      <th>Trades</th>\n",
       "      <th>Deliverable Volume</th>\n",
       "      <th>%Deliverble</th>\n",
       "    </tr>\n",
       "  </thead>\n",
       "  <tbody>\n",
       "    <tr>\n",
       "      <th>5199</th>\n",
       "      <td>2020-11-23</td>\n",
       "      <td>RELIANCE</td>\n",
       "      <td>EQ</td>\n",
       "      <td>1899.50</td>\n",
       "      <td>1951.00</td>\n",
       "      <td>1970.00</td>\n",
       "      <td>1926.25</td>\n",
       "      <td>1955.20</td>\n",
       "      <td>1950.70</td>\n",
       "      <td>1952.18</td>\n",
       "      <td>20918665</td>\n",
       "      <td>4.083704e+15</td>\n",
       "      <td>497781.0</td>\n",
       "      <td>5148955.0</td>\n",
       "      <td>0.2461</td>\n",
       "    </tr>\n",
       "    <tr>\n",
       "      <th>5200</th>\n",
       "      <td>2020-11-24</td>\n",
       "      <td>RELIANCE</td>\n",
       "      <td>EQ</td>\n",
       "      <td>1950.70</td>\n",
       "      <td>1964.00</td>\n",
       "      <td>1974.00</td>\n",
       "      <td>1932.00</td>\n",
       "      <td>1971.05</td>\n",
       "      <td>1964.05</td>\n",
       "      <td>1952.11</td>\n",
       "      <td>14277083</td>\n",
       "      <td>2.787044e+15</td>\n",
       "      <td>362587.0</td>\n",
       "      <td>3213843.0</td>\n",
       "      <td>0.2251</td>\n",
       "    </tr>\n",
       "    <tr>\n",
       "      <th>5201</th>\n",
       "      <td>2020-11-25</td>\n",
       "      <td>RELIANCE</td>\n",
       "      <td>EQ</td>\n",
       "      <td>1964.05</td>\n",
       "      <td>1980.00</td>\n",
       "      <td>1992.95</td>\n",
       "      <td>1942.20</td>\n",
       "      <td>1947.50</td>\n",
       "      <td>1947.80</td>\n",
       "      <td>1969.06</td>\n",
       "      <td>15062376</td>\n",
       "      <td>2.965874e+15</td>\n",
       "      <td>356793.0</td>\n",
       "      <td>3040444.0</td>\n",
       "      <td>0.2019</td>\n",
       "    </tr>\n",
       "    <tr>\n",
       "      <th>5202</th>\n",
       "      <td>2020-11-26</td>\n",
       "      <td>RELIANCE</td>\n",
       "      <td>EQ</td>\n",
       "      <td>1947.80</td>\n",
       "      <td>1953.05</td>\n",
       "      <td>1965.00</td>\n",
       "      <td>1930.05</td>\n",
       "      <td>1957.00</td>\n",
       "      <td>1952.60</td>\n",
       "      <td>1946.67</td>\n",
       "      <td>11924527</td>\n",
       "      <td>2.321309e+15</td>\n",
       "      <td>266412.0</td>\n",
       "      <td>3406506.0</td>\n",
       "      <td>0.2857</td>\n",
       "    </tr>\n",
       "    <tr>\n",
       "      <th>5203</th>\n",
       "      <td>2020-11-27</td>\n",
       "      <td>RELIANCE</td>\n",
       "      <td>EQ</td>\n",
       "      <td>1952.60</td>\n",
       "      <td>1940.50</td>\n",
       "      <td>1956.10</td>\n",
       "      <td>1921.40</td>\n",
       "      <td>1940.50</td>\n",
       "      <td>1929.80</td>\n",
       "      <td>1935.45</td>\n",
       "      <td>21845931</td>\n",
       "      <td>4.228164e+15</td>\n",
       "      <td>314085.0</td>\n",
       "      <td>12489338.0</td>\n",
       "      <td>0.5717</td>\n",
       "    </tr>\n",
       "  </tbody>\n",
       "</table>\n",
       "</div>"
      ],
      "text/plain": [
       "            Date    Symbol Series  Prev Close     Open     High      Low  \\\n",
       "5199  2020-11-23  RELIANCE     EQ     1899.50  1951.00  1970.00  1926.25   \n",
       "5200  2020-11-24  RELIANCE     EQ     1950.70  1964.00  1974.00  1932.00   \n",
       "5201  2020-11-25  RELIANCE     EQ     1964.05  1980.00  1992.95  1942.20   \n",
       "5202  2020-11-26  RELIANCE     EQ     1947.80  1953.05  1965.00  1930.05   \n",
       "5203  2020-11-27  RELIANCE     EQ     1952.60  1940.50  1956.10  1921.40   \n",
       "\n",
       "         Last    Close     VWAP    Volume      Turnover    Trades  \\\n",
       "5199  1955.20  1950.70  1952.18  20918665  4.083704e+15  497781.0   \n",
       "5200  1971.05  1964.05  1952.11  14277083  2.787044e+15  362587.0   \n",
       "5201  1947.50  1947.80  1969.06  15062376  2.965874e+15  356793.0   \n",
       "5202  1957.00  1952.60  1946.67  11924527  2.321309e+15  266412.0   \n",
       "5203  1940.50  1929.80  1935.45  21845931  4.228164e+15  314085.0   \n",
       "\n",
       "      Deliverable Volume  %Deliverble  \n",
       "5199           5148955.0       0.2461  \n",
       "5200           3213843.0       0.2251  \n",
       "5201           3040444.0       0.2019  \n",
       "5202           3406506.0       0.2857  \n",
       "5203          12489338.0       0.5717  "
      ]
     },
     "execution_count": 18,
     "metadata": {},
     "output_type": "execute_result"
    }
   ],
   "source": [
    "data.tail()"
   ]
  },
  {
   "cell_type": "code",
   "execution_count": 55,
   "metadata": {},
   "outputs": [],
   "source": [
    "Price = data['VWAP']\n",
    "date = data['Date']"
   ]
  },
  {
   "cell_type": "code",
   "execution_count": 57,
   "metadata": {},
   "outputs": [
    {
     "data": {
      "text/plain": [
       "[<matplotlib.lines.Line2D at 0x24574a9e760>]"
      ]
     },
     "execution_count": 57,
     "metadata": {},
     "output_type": "execute_result"
    },
    {
     "data": {
      "image/png": "[encoded data removed]",
      "text/plain": [
       "<Figure size 1152x576 with 1 Axes>"
      ]
     },
     "metadata": {
      "needs_background": "light"
     },
     "output_type": "display_data"
    }
   ],
   "source": [
    "import matplotlib.pyplot as plt\n",
    "%matplotlib inline\n",
    "\n",
    "data['Date'] = pd.to_datetime(data['Date'],format='%Y/%m/%d')\n",
    "data.index = data['Date']\n",
    "\n",
    "plt.figure(figsize=(16,8))\n",
    "plt.plot(data['VWAP'], label='Close Price history')"
   ]
  },
  {
   "cell_type": "code",
   "execution_count": 4,
   "metadata": {},
   "outputs": [
    {
     "name": "stdout",
     "output_type": "stream",
     "text": [
      "(5204,)\n"
     ]
    }
   ],
   "source": [
    "Price = Price.to_numpy()\n",
    "print(Price.shape)"
   ]
  },
  {
   "cell_type": "code",
   "execution_count": 22,
   "metadata": {},
   "outputs": [],
   "source": [
    "batch_size = 32\n",
    "len_memory = 30\n",
    "def get_batch(Price):\n",
    "    \n",
    "    X = np.zeros((Price.shape[0] - len_memory,len_memory))\n",
    "    Y = np.zeros((Price.shape[0] - len_memory,1))\n",
    "    for i in range(Price.shape[0] - len_memory):\n",
    "        try:\n",
    "            X_train = Price[i:i+len_memory]\n",
    "            Y_train = Price[i+len_memory]\n",
    "            X[i] = X_train\n",
    "            Y[i] = Y_train\n",
    "        except:\n",
    "            print(X_train.shape)\n",
    "\n",
    "    return X,Y"
   ]
  },
  {
   "cell_type": "code",
   "execution_count": 77,
   "metadata": {},
   "outputs": [],
   "source": [
    "X,Y = get_batch(Price)"
   ]
  },
  {
   "cell_type": "code",
   "execution_count": 65,
   "metadata": {},
   "outputs": [
    {
     "name": "stdout",
     "output_type": "stream",
     "text": [
      "[2197.33 2189.75 2166.54 2143.87 2107.04 2118.9  2052.69 2026.38 2026.02\n",
      " 2019.57 2040.66 1927.55 1873.92 1893.24 1949.03 2015.72 2051.91 2071.86\n",
      " 2027.8  1987.14 2007.38 2005.96 2013.16 1979.95 1987.24 1923.27 1952.18\n",
      " 1952.11 1969.06 1946.67]\n",
      "[1935.45]\n",
      "(5174, 30, 1)\n",
      "(5174, 1)\n"
     ]
    }
   ],
   "source": [
    "print(X[-1,:])\n",
    "print(Y[-1])\n",
    "X = np.reshape(X,(X.shape[0],X.shape[1],1))\n",
    "print(X.shape)\n",
    "print(Y.shape)"
   ]
  },
  {
   "cell_type": "code",
   "execution_count": 78,
   "metadata": {},
   "outputs": [
    {
     "name": "stdout",
     "output_type": "stream",
     "text": [
      "3197.75\n",
      "X\n",
      "[[0.07798296 0.08240794 0.0859323  ... 0.1103651  0.11461184 0.11114377]\n",
      " [0.08240794 0.0859323  0.09239309 ... 0.11461184 0.11114377 0.10912986]\n",
      " [0.0859323  0.09239309 0.0966023  ... 0.11114377 0.10912986 0.10911109]\n",
      " ...\n",
      " [0.71449613 0.70081776 0.68714878 ... 0.60144477 0.6104855  0.61046361]\n",
      " [0.70081776 0.68714878 0.68477836 ... 0.6104855  0.61046361 0.61576421]\n",
      " [0.68714878 0.68477836 0.67752013 ... 0.61046361 0.61576421 0.60876241]]\n",
      "Y\n",
      "[[0.10912986]\n",
      " [0.10911109]\n",
      " [0.11058088]\n",
      " ...\n",
      " [0.61576421]\n",
      " [0.60876241]\n",
      " [0.60525369]]\n"
     ]
    }
   ],
   "source": [
    "max_price = np.max(X)\n",
    "print(max_price)\n",
    "X = X/max_price\n",
    "Y = Y/max_price\n",
    "print(\"X\")\n",
    "print(X)\n",
    "print(\"Y\")\n",
    "print(Y)"
   ]
  },
  {
   "cell_type": "code",
   "execution_count": 58,
   "metadata": {},
   "outputs": [],
   "source": [
    "import tensorflow as tf\n",
    "from tensorflow import keras\n",
    "from tensorflow.keras.layers import Dense, BatchNormalization, LSTM\n",
    "from tensorflow.keras import Sequential\n",
    "model = Sequential()\n",
    "model.add(LSTM(128, return_sequences=True, input_shape= (X.shape[1], 1)))\n",
    "model.add(LSTM(128, return_sequences= False))\n",
    "model.add(Dense(25))\n",
    "model.add(Dense(1))"
   ]
  },
  {
   "cell_type": "code",
   "execution_count": 59,
   "metadata": {},
   "outputs": [
    {
     "name": "stdout",
     "output_type": "stream",
     "text": [
      "Model: \"sequential_3\"\n",
      "_________________________________________________________________\n",
      "Layer (type)                 Output Shape              Param #   \n",
      "=================================================================\n",
      "lstm_4 (LSTM)                (None, 30, 128)           66560     \n",
      "_________________________________________________________________\n",
      "lstm_5 (LSTM)                (None, 128)               131584    \n",
      "_________________________________________________________________\n",
      "dense_4 (Dense)              (None, 25)                3225      \n",
      "_________________________________________________________________\n",
      "dense_5 (Dense)              (None, 1)                 26        \n",
      "=================================================================\n",
      "Total params: 201,395\n",
      "Trainable params: 201,395\n",
      "Non-trainable params: 0\n",
      "_________________________________________________________________\n"
     ]
    }
   ],
   "source": [
    "model.compile(loss='mean_squared_error', optimizer='adam', metrics=[tf.keras.metrics.MeanSquaredError()])\n",
    "model.summary()"
   ]
  },
  {
   "cell_type": "code",
   "execution_count": 60,
   "metadata": {},
   "outputs": [
    {
     "name": "stdout",
     "output_type": "stream",
     "text": [
      "Epoch 1/10\n",
      "130/130 [==============================] - 19s 148ms/step - loss: 0.0021 - mean_squared_error: 0.0021 - val_loss: 6.1037e-04 - val_mean_squared_error: 6.1037e-04\n",
      "Epoch 2/10\n",
      "130/130 [==============================] - 13s 99ms/step - loss: 4.4814e-04 - mean_squared_error: 4.4814e-04 - val_loss: 4.5242e-04 - val_mean_squared_error: 4.5242e-04\n",
      "Epoch 3/10\n",
      "130/130 [==============================] - 14s 108ms/step - loss: 3.6184e-04 - mean_squared_error: 3.6184e-04 - val_loss: 4.3444e-04 - val_mean_squared_error: 4.3444e-04\n",
      "Epoch 4/10\n",
      "130/130 [==============================] - 12s 93ms/step - loss: 3.3081e-04 - mean_squared_error: 3.3081e-04 - val_loss: 5.5551e-04 - val_mean_squared_error: 5.5551e-04\n",
      "Epoch 5/10\n",
      "130/130 [==============================] - 12s 94ms/step - loss: 3.1510e-04 - mean_squared_error: 3.1510e-04 - val_loss: 3.9154e-04 - val_mean_squared_error: 3.9154e-04\n",
      "Epoch 6/10\n",
      "130/130 [==============================] - 10s 76ms/step - loss: 3.0816e-04 - mean_squared_error: 3.0816e-04 - val_loss: 3.7063e-04 - val_mean_squared_error: 3.7063e-04\n",
      "Epoch 7/10\n",
      "130/130 [==============================] - 12s 89ms/step - loss: 2.6106e-04 - mean_squared_error: 2.6106e-04 - val_loss: 2.6763e-04 - val_mean_squared_error: 2.6763e-04\n",
      "Epoch 8/10\n",
      "130/130 [==============================] - 12s 94ms/step - loss: 2.5629e-04 - mean_squared_error: 2.5629e-04 - val_loss: 6.1840e-04 - val_mean_squared_error: 6.1840e-04\n",
      "Epoch 9/10\n",
      "130/130 [==============================] - 12s 92ms/step - loss: 2.8007e-04 - mean_squared_error: 2.8007e-04 - val_loss: 5.0143e-04 - val_mean_squared_error: 5.0143e-04\n",
      "Epoch 10/10\n",
      "130/130 [==============================] - 11s 88ms/step - loss: 2.0548e-04 - mean_squared_error: 2.0548e-04 - val_loss: 2.0134e-04 - val_mean_squared_error: 2.0134e-04\n"
     ]
    }
   ],
   "source": [
    "history = model.fit(X, Y, epochs=10, batch_size=32, validation_split = 0.2)"
   ]
  },
  {
   "cell_type": "code",
   "execution_count": 62,
   "metadata": {},
   "outputs": [
    {
     "data": {
      "image/png": "[encoded data removed]",
      "text/plain": [
       "<Figure size 576x576 with 2 Axes>"
      ]
     },
     "metadata": {
      "needs_background": "light"
     },
     "output_type": "display_data"
    }
   ],
   "source": [
    "mse = history.history['mean_squared_error']\n",
    "val_mse = history.history['val_mean_squared_error']\n",
    "\n",
    "loss = history.history['loss']\n",
    "val_loss = history.history['val_loss']\n",
    "\n",
    "epochs_range = range(10)\n",
    "\n",
    "plt.figure(figsize=(8, 8))\n",
    "plt.subplot(1, 2, 1)\n",
    "plt.plot(epochs_range, mse, label='Training mse')\n",
    "plt.plot(epochs_range, val_mse, label='Validation mse')\n",
    "plt.legend(loc='upper right')\n",
    "plt.title('Training and Validation MSE')\n",
    "\n",
    "plt.subplot(1, 2, 2)\n",
    "plt.plot(epochs_range, loss, label='Training Loss')\n",
    "plt.plot(epochs_range, val_loss, label='Validation Loss')\n",
    "plt.legend(loc='upper right')\n",
    "plt.title('Training and Validation Loss')\n",
    "plt.show()\n",
    "\n",
    "#lol\n",
    "#mse is the loss itself"
   ]
  },
  {
   "cell_type": "code",
   "execution_count": 75,
   "metadata": {},
   "outputs": [],
   "source": [
    "Y_pred = model.predict(X)"
   ]
  },
  {
   "cell_type": "code",
   "execution_count": 79,
   "metadata": {},
   "outputs": [
    {
     "name": "stdout",
     "output_type": "stream",
     "text": [
      "[[0.10912986]\n",
      " [0.10911109]\n",
      " [0.11058088]\n",
      " ...\n",
      " [0.61576421]\n",
      " [0.60876241]\n",
      " [0.60525369]]\n",
      "3197.75\n",
      "[[ 355.56015]\n",
      " [ 354.62704]\n",
      " [ 352.73584]\n",
      " ...\n",
      " [1947.5958 ]\n",
      " [1955.4225 ]\n",
      " [1955.063  ]]\n"
     ]
    }
   ],
   "source": [
    "print(Y)\n",
    "print(max_price)\n",
    "print(Y_pred*max_price)"
   ]
  },
  {
   "cell_type": "code",
   "execution_count": 81,
   "metadata": {},
   "outputs": [
    {
     "data": {
      "text/plain": [
       "[<matplotlib.lines.Line2D at 0x245649a5940>]"
      ]
     },
     "execution_count": 81,
     "metadata": {},
     "output_type": "execute_result"
    },
    {
     "data": {
      "image/png": "[encoded data removed]",
      "text/plain": [
       "<Figure size 432x288 with 1 Axes>"
      ]
     },
     "metadata": {
      "needs_background": "light"
     },
     "output_type": "display_data"
    }
   ],
   "source": [
    "plt.plot(Y*max_price)\n",
    "plt.plot(Y_pred*max_price)"
   ]
  },
  {
   "cell_type": "code",
   "execution_count": 83,
   "metadata": {},
   "outputs": [],
   "source": [
    "error = np.linalg.norm((Y_pred - Y)*max_price)"
   ]
  },
  {
   "cell_type": "code",
   "execution_count": 84,
   "metadata": {},
   "outputs": [
    {
     "name": "stdout",
     "output_type": "stream",
     "text": [
      "2907.244841925343\n"
     ]
    }
   ],
   "source": [
    "print(error)"
   ]
  },
  {
   "cell_type": "code",
   "execution_count": 85,
   "metadata": {},
   "outputs": [
    {
     "name": "stdout",
     "output_type": "stream",
     "text": [
      "0.5618950216322657\n"
     ]
    }
   ],
   "source": [
    "mean_error = error/Y.shape[0]\n",
    "print(mean_error)"
   ]
  }
 ],
 "metadata": {
  "kernelspec": {
   "display_name": "Python 3",
   "language": "python",
   "name": "python3"
  },
  "language_info": {
   "codemirror_mode": {
    "name": "ipython",
    "version": 3
   },
   "file_extension": ".py",
   "mimetype": "text/x-python",
   "name": "python",
   "nbconvert_exporter": "python",
   "pygments_lexer": "ipython3",
   "version": "3.8.6"
  }
 },
 "nbformat": 4,
 "nbformat_minor": 4
}
